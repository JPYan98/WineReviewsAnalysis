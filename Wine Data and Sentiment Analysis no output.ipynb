{
 "cells": [
  {
   "cell_type": "markdown",
   "id": "ceeee474",
   "metadata": {},
   "source": [
    "# Analysis on Wine Reviews\n",
    "## —130k wine reviews with variety, location, winery, price, and description\n",
    "### -Created by Jinning Yan\n",
    "### -Date: July 16th, 2023\n",
    "<img src=\"https://static01.nyt.com/images/2023/02/08/multimedia/08pour-01-fmlw/08pour-01-fmlw-videoSixteenByNine3000.jpg\" width=\"500\" height=\"500\">"
   ]
  },
  {
   "cell_type": "markdown",
   "id": "d9899eef",
   "metadata": {},
   "source": [
    "### Warning Setting"
   ]
  },
  {
   "cell_type": "code",
   "execution_count": null,
   "id": "6ed7b980",
   "metadata": {},
   "outputs": [],
   "source": [
    "import warnings\n",
    "warnings.filterwarnings('ignore')"
   ]
  },
  {
   "cell_type": "markdown",
   "id": "9301f3f7",
   "metadata": {},
   "source": [
    "### Libraries & Dataset"
   ]
  },
  {
   "cell_type": "code",
   "execution_count": null,
   "id": "55d20c73",
   "metadata": {},
   "outputs": [],
   "source": [
    "# Basi libraries to manipulate data\n",
    "import numpy as np\n",
    "import pandas as pd\n",
    "import seaborn as sns\n",
    "import matplotlib.pyplot as plt\n",
    "import datetime\n",
    "import plotly.express as px\n",
    "import plotly.graph_objs as go\n",
    "import plotly.io as pio\n",
    "from plotly.subplots import make_subplots\n",
    "\n",
    "pio.renderers.default = \"plotly_mimetype+notebook\"\n",
    "\n",
    "# Libraries for text mining\n",
    "import nltk\n",
    "from nltk.tokenize import RegexpTokenizer\n",
    "from nltk.stem import WordNetLemmatizer,PorterStemmer\n",
    "from nltk.corpus import stopwords\n",
    "import re\n",
    "from collections import Counter\n",
    "from wordcloud import WordCloud\n",
    "from ast import literal_eval\n",
    "from textblob import TextBlob #sentiment\n",
    "from PIL import Image\n",
    "\n",
    "nltk.download('punkt')\n",
    "nltk.download('wordnet')\n",
    "nltk.download('stopwords')\n",
    "\n",
    "# Libraries for predictive models\n",
    "from sklearn.feature_extraction.text import TfidfVectorizer\n",
    "from sklearn.model_selection import train_test_split\n",
    "from sklearn.neighbors import KNeighborsClassifier\n",
    "from sklearn.tree import DecisionTreeClassifier\n",
    "from sklearn.ensemble import RandomForestClassifier, ExtraTreesClassifier\n",
    "from sklearn.feature_selection import RFE\n",
    "from sklearn.linear_model import LogisticRegression, LinearRegression\n",
    "from sklearn.svm import SVC, LinearSVC, NuSVC\n",
    "from sklearn.naive_bayes import BernoulliNB, MultinomialNB"
   ]
  },
  {
   "cell_type": "code",
   "execution_count": null,
   "id": "6663c3ad",
   "metadata": {},
   "outputs": [],
   "source": [
    "# Import file\n",
    "wine = pd.read_csv('winemag-data-130k-v2.csv')"
   ]
  },
  {
   "cell_type": "markdown",
   "id": "9f03ac91",
   "metadata": {},
   "source": [
    "### Dataset Information"
   ]
  },
  {
   "cell_type": "code",
   "execution_count": null,
   "id": "f3d9b543",
   "metadata": {
    "scrolled": false
   },
   "outputs": [],
   "source": [
    "print(f\"---Dataset Info---\")\n",
    "#printing column names\n",
    "print(f\"Total columns: {len(wine.columns)}\")\n",
    "print(\"Columns names:\", end=\" \")\n",
    "for col in wine:\n",
    "    if col == 'winery':\n",
    "        print(col, end=\".\")\n",
    "    else: \n",
    "        print(col, end=\", \")\n",
    "print()\n",
    "\n",
    "print(f\"Columns type:\")\n",
    "#creating temp array\n",
    "columnData = []\n",
    "wineIndexType = []\n",
    "for col in wine.columns:\n",
    "    temp = []\n",
    "    wineIndexType.append(col)\n",
    "    temp.append(wine[col].apply(type).unique())\n",
    "    temp.append(wine[col].isnull().sum())\n",
    "    columnData.append(temp)\n",
    "\n",
    "wineColumnsType = pd.DataFrame(columnData, columns=['Types','NaN Count'])\n",
    "wineColumnsType.index = wineIndexType\n",
    "display(wineColumnsType)\n",
    "\n",
    "print(f\"Dataframe rows: {len(wine)}\")\n",
    "\n",
    "# display dataset\n",
    "print(\"Dataset samples:\")\n",
    "wine.sample(5)"
   ]
  },
  {
   "cell_type": "markdown",
   "id": "ac660cb4",
   "metadata": {},
   "source": [
    "#### Column names Explaination:\n",
    "- __country__: Country of origin\n",
    "- __description__: Sommelier's description on the wine\n",
    "- __designation__: Vineyard where the grapes are from\n",
    "- __points__: Rating on a scale of 1-100 (only scores >=80)\n",
    "- __price__: Price of wine\n",
    "- __province__: Province or state that the wine is from\n",
    "- __region_1__: Wine growing area in a province or state (ie Napa)\n",
    "- __region_2__: Specific regions specified within a wine growing area (ie Rutherford inside the Napa Valley), sometimes blank\n",
    "- __taster_name__: Name of the person who tasted and reviewed the wine\n",
    "- __taster_twitter_handle__: Twitter handle for the person who tasted and reviewed the wine\n",
    "- __title__: Title of the wine review\n",
    "- __variety__: Type of grapes used to make the wine (ie Pinot Noir)\n",
    "- __winery__: Winery that made the wine"
   ]
  },
  {
   "cell_type": "markdown",
   "id": "ba3eb388",
   "metadata": {},
   "source": [
    "### Analysis"
   ]
  },
  {
   "cell_type": "markdown",
   "id": "d7cfc434",
   "metadata": {},
   "source": [
    "#### Analysis by Countries and Continents"
   ]
  },
  {
   "cell_type": "code",
   "execution_count": null,
   "id": "b6601ac9",
   "metadata": {},
   "outputs": [],
   "source": [
    "# Checking countries\n",
    "country_counts = wine['country'].value_counts()\n",
    "print(country_counts)"
   ]
  },
  {
   "cell_type": "code",
   "execution_count": null,
   "id": "8585c8ad",
   "metadata": {
    "scrolled": false
   },
   "outputs": [],
   "source": [
    "# Plot by Countries\n",
    "plt.figure(figsize=(10,6))  \n",
    "sns.barplot(x=country_counts.index, y=country_counts.values, alpha=0.8)\n",
    "\n",
    "plt.title('Countries of Distribution')\n",
    "plt.ylabel('Number of Occurrences', fontsize=12)\n",
    "plt.xlabel('Country', fontsize=12)\n",
    "plt.xticks(rotation=70) \n",
    "plt.show()"
   ]
  },
  {
   "cell_type": "markdown",
   "id": "1d2a3dc1",
   "metadata": {},
   "source": [
    "This Countries of Distribution diagram demonstrates the number of different wines eaxh country produces in this database\n",
    "The United States has the most wine brands, almost as much as other countries combined\n",
    "As a result, We can see that the mareket of wine, especially in the United States is already saturated, and there's lack in opportunities."
   ]
  },
  {
   "cell_type": "code",
   "execution_count": null,
   "id": "19e89067",
   "metadata": {},
   "outputs": [],
   "source": [
    "# Sorting by Continent\n",
    "Europe = ['Austria', 'Bosnia and Herzegovina','Bulgaria','Croatia','Cyprus','Czech Republic','England', 'France','Germany','Greece','Italy','Luxembourg','Portugal','Hungary', 'Macedonia', 'Moldova', 'Romania', 'Serbia', 'Slovakia', 'Slovenia', 'Spain', 'Switzerland', 'Turkey', 'Ukraine', 'Georgia']\n",
    "Asia = ['Armenia', 'China','India','Israel','Lebanon' ]\n",
    "NorthAmerica = ['Canada','US','Mexico']\n",
    "SouthAmerica = ['Argentina',',Brazil','Chile','Peru','Uruguay'] \n",
    "Oceania = ['Australia','New Zealand'] \n",
    "Africa = ['South Africa','Morocco','Egypt']\n",
    "\n",
    "def continentDispacher(row):\n",
    "    if row['country'] in Europe:\n",
    "        val = 'Europe'\n",
    "    elif row['country'] in Asia:\n",
    "        #val = 'Asia'\n",
    "        val = 'Other'\n",
    "    elif row['country'] in NorthAmerica:\n",
    "        val = 'North America'\n",
    "    elif row['country'] in SouthAmerica:\n",
    "        #val = 'South America'\n",
    "        val = 'Other'\n",
    "    elif row['country'] in Oceania:\n",
    "        #val = 'Oceania'\n",
    "        val = 'Other'\n",
    "    elif row['country'] in Africa:\n",
    "        #val = 'Africa'\n",
    "        val = 'Other'\n",
    "    else:\n",
    "        val = 'Other'\n",
    "\n",
    "    return val\n",
    "\n",
    "wine['continent'] = wine.apply(continentDispacher,1)"
   ]
  },
  {
   "cell_type": "code",
   "execution_count": null,
   "id": "258f2baa",
   "metadata": {},
   "outputs": [],
   "source": [
    "# Pie chart\n",
    "pieContinent = px.pie(wine, names='continent', title='Wine Productions Across Continents')\n",
    "pieContinent.update_traces(textposition='inside', textinfo='percent+label')\n",
    "pieContinent.update(layout_showlegend=False)\n",
    "pieContinent.show()"
   ]
  },
  {
   "cell_type": "markdown",
   "id": "541b1350",
   "metadata": {},
   "source": [
    "From this pie chart, we are able to observe that almost 90% of wine of the 130k different wines are from either North America or Europe.\n",
    "Europe has slightly more brands comparing to North America"
   ]
  },
  {
   "cell_type": "code",
   "execution_count": null,
   "id": "9bdfdee0",
   "metadata": {},
   "outputs": [],
   "source": [
    "# World map\n",
    "wineCountry = wine.groupby('country').count().reset_index()\n",
    "wineCountry = wineCountry[['country','continent']]\n",
    "wineCountry.columns = ['country','count']\n",
    "\n",
    "fig = px.choropleth(wineCountry, locations=\"country\", locationmode='country names', color=\"count\", hover_name=\"country\", color_continuous_scale=px.colors.sequential.Reds)\n",
    "fig.update_geos(projection_type=\"natural earth\")\n",
    "fig.update_layout(margin={\"r\":0,\"t\":50,\"l\":0,\"b\":0},title = 'Wine distribution across countries')\n",
    "fig.show()"
   ]
  },
  {
   "cell_type": "markdown",
   "id": "5b026688",
   "metadata": {},
   "source": [
    "As this world map shows the density of wine origin.\n",
    "The US has time more brands of wine than any other countries on any continent"
   ]
  },
  {
   "cell_type": "code",
   "execution_count": null,
   "id": "3bec0772",
   "metadata": {},
   "outputs": [],
   "source": [
    "# world wide wine distribution\n",
    "wineRegion = wine.groupby(['continent','country','region_1'], dropna=False).count().reset_index()\n",
    "wineRegion = wineRegion[['continent','country','region_1','points']]\n",
    "wineRegion.columns = ['continent','country','region_1','count']\n",
    "wineRegion = wineRegion.dropna(subset=['region_1'])\n",
    "\n",
    "fig = px.treemap(wineRegion, path=[\"continent\", 'country', 'region_1'],branchvalues=\"total\", values='count', title='Wine distribution across countries')\n",
    "fig.show()"
   ]
  },
  {
   "cell_type": "markdown",
   "id": "275f621b",
   "metadata": {},
   "source": [
    "This interactive diagram shows the region where different wine come from.\n",
    "\n",
    "We are able to observe that Napa Valley is the source of the most brands in the US\n",
    "As a result, despite of the constant marketing of Napa Valley wine brands in China, we should think twice, that brands from Napa Valley does not necessarily indicate high quality due to the mass production.\n",
    "\n",
    "On the other hand, most wine from Europe are from France and Italy."
   ]
  },
  {
   "cell_type": "markdown",
   "id": "0ae51dbd",
   "metadata": {},
   "source": [
    "#### Vintage (Production Year) Analysis"
   ]
  },
  {
   "cell_type": "code",
   "execution_count": null,
   "id": "e9d123e9",
   "metadata": {},
   "outputs": [],
   "source": [
    "# Extracting the year from title\n",
    "wine['vintage'] = wine['title'].str.extract('(\\d{4})')\n",
    "wine.head()"
   ]
  },
  {
   "cell_type": "code",
   "execution_count": null,
   "id": "e8f2907e",
   "metadata": {},
   "outputs": [],
   "source": [
    "wineVintageWithoutNaN = wine.copy()\n",
    "wineVintageWithoutNaN['vintage'] = pd.to_numeric(wineVintageWithoutNaN['vintage'], errors='coerce')\n",
    "wineVintageWithoutNaN = wineVintageWithoutNaN[(wineVintageWithoutNaN['vintage'] >= 1950) & (wineVintageWithoutNaN['vintage'] <= datetime.datetime.now().year)]\n",
    "wineVintageWithoutNaN = wineVintageWithoutNaN[wineVintageWithoutNaN['vintage'] < datetime.datetime.now().year] \n",
    "vintageDistribution = px.histogram(wineVintageWithoutNaN, x=\"vintage\", title='Vintage review distribution')\n",
    "\n",
    "vintageDistribution.update_xaxes(title='Year',dtick=1)\n",
    "vintageDistribution.update_yaxes(title='Count')\n",
    "vintageDistribution.show()"
   ]
  },
  {
   "cell_type": "markdown",
   "id": "22209d9c",
   "metadata": {},
   "source": [
    "This diagram shows the year of 130,000+ brands of wine are produced, we are able to observe most of the wine are produced between 2010 to 2014, with the most being wine from 2013"
   ]
  },
  {
   "cell_type": "markdown",
   "id": "8a42fbbf",
   "metadata": {},
   "source": [
    "#### Wine Score Analysis\n",
    "\n",
    "Scores (points) are from 0 to 100, but the dataset excluded those lower than 80\n",
    "- __80–84: Good__\n",
    "- __85–89: Great__\n",
    "- __90–94: Excellent__\n",
    "- __95–99: Outstanding__\n",
    "- __100: Impeccable__"
   ]
  },
  {
   "cell_type": "code",
   "execution_count": null,
   "id": "b7c08b15",
   "metadata": {},
   "outputs": [],
   "source": [
    "# assign point\n",
    "def assign_point_description(point):\n",
    "    if point <= 84:\n",
    "        return 'Good'\n",
    "    elif point <= 89:\n",
    "        return 'Great'\n",
    "    elif point <= 94:\n",
    "        return 'Excellent'\n",
    "    elif point <= 99:\n",
    "        return 'Outstanding'\n",
    "    else:\n",
    "        return 'Impeccable'\n",
    "\n",
    "wine['pointsDescription'] = wine['points'].apply(assign_point_description)"
   ]
  },
  {
   "cell_type": "code",
   "execution_count": null,
   "id": "14cc2cf6",
   "metadata": {},
   "outputs": [],
   "source": [
    "#Histogram of points\n",
    "pointDistribution = px.histogram(wine, x='points', color='pointsDescription', title='Points distribution', height=500,\n",
    " category_orders=dict(pointsDescription=['Impeccable', 'Outstanding', 'Excellent', 'Great', 'Good']), \n",
    "                  labels={\n",
    "                     \"pointsDescription\": \"Point Description\"\n",
    "                 },\n",
    "                 color_discrete_map = {'Impeccable':'#57e32c','Outstanding':'#b7dd29','Excellent':'#ffe234','Great':'#ffa534', 'Good':'#ff4545'}\n",
    "\n",
    ")\n",
    "\n",
    "# update axis\n",
    "pointDistribution.update_xaxes(title='Point',tickmode='linear')\n",
    "pointDistribution.update_yaxes(title='Count')\n",
    "#display histogram\n",
    "pointDistribution.show()"
   ]
  },
  {
   "cell_type": "markdown",
   "id": "94b48428",
   "metadata": {},
   "source": [
    "We are able to observe that most of the wine in this list received 87,88 and 90 as their score. Wines that received 'Good' grade are more than those scored 'Outstanding' and 'Impeccable' combined. "
   ]
  },
  {
   "cell_type": "markdown",
   "id": "98c3469f",
   "metadata": {},
   "source": [
    "#### Wine Price Analysis\n",
    "\n",
    "Divide price of wine into 5 catagories:\n",
    "- __<=10   usd: Adequate__ \n",
    "- __11–50  usd: Casual__ \n",
    "- __51–100 usd: Premium__\n",
    "- __101–200  usd: Luxury__\n",
    "- __201<=   usd: Exemplary__ "
   ]
  },
  {
   "cell_type": "code",
   "execution_count": null,
   "id": "86562027",
   "metadata": {},
   "outputs": [],
   "source": [
    "# Define price ranges\n",
    "AdequateOffset = 10\n",
    "CasualOffset = 50\n",
    "PremiumOffset = 100\n",
    "LuxuryOffset = 200\n",
    "\n",
    "# Assign price\n",
    "def priceDispacher(price):\n",
    "    if price <= AdequateOffset:\n",
    "        return'Adequate'\n",
    "    elif price <= CasualOffset:\n",
    "        return'Casual'\n",
    "    elif price <= PremiumOffset:\n",
    "        return'Premium'\n",
    "    elif price <= LuxuryOffset:\n",
    "        return'Luxury'\n",
    "    else:\n",
    "        return'Exemplary'\n",
    "\n",
    "wine['Description'] = wine['price'].map(priceDispacher)"
   ]
  },
  {
   "cell_type": "code",
   "execution_count": null,
   "id": "bf65ad78",
   "metadata": {},
   "outputs": [],
   "source": [
    "# Box plot\n",
    "boxPricePoint = go.Figure()\n",
    "boxPricePoint.add_trace(go.Box(x=wine['points'], y=wine['price'], orientation='v',marker_color='#722F37', boxmean=True))\n",
    "boxPricePoint.update_layout(xaxis_range=[79.5, 100.5], title='Correlation between Price and Score of Wine')\n",
    "boxPricePoint.update_xaxes(title='Point of Wine', dtick=1)\n",
    "boxPricePoint.update_yaxes(title='Price of Wine (USD)',type=\"log\")\n",
    "boxPricePoint.update_yaxes()\n",
    "\n",
    "# display box plot\n",
    "boxPricePoint.show()"
   ]
  },
  {
   "cell_type": "markdown",
   "id": "be426964",
   "metadata": {},
   "source": [
    "From this diagram, we are able to observe that although more expensive wine doe not mean a higher score, but according to the trend, it is more likely for a more expensive wine to receive a higher score. More studies are required before understanding if this is due to the high price point or simply the taste."
   ]
  },
  {
   "cell_type": "code",
   "execution_count": null,
   "id": "34cc2c8c",
   "metadata": {
    "scrolled": false
   },
   "outputs": [],
   "source": [
    "# Stacked histogram\n",
    "averagepricePoint = px.histogram(wine,x='points', color='Description', barmode='stack', barnorm='percent',\n",
    " category_orders=dict(priceDescription=['Adequate', 'Casual', 'Premium', 'Luxury', 'Exemplary']), title='Price distribution by Score', labels={\n",
    "                     \"Description\": \"Price Description\"\n",
    "                 }, color_discrete_sequence=px.colors.sequential.Burg\n",
    "                 )\n",
    "# update axis\n",
    "averagepricePoint.update_xaxes(title='Point', dtick=1)\n",
    "averagepricePoint.update_yaxes(title='Count %')\n",
    "\n",
    "#display stacked histogram\n",
    "averagepricePoint.show()"
   ]
  },
  {
   "cell_type": "markdown",
   "id": "6a801560",
   "metadata": {},
   "source": [
    "This diagram shows the percentages where wines from each price point scored in the rating process. \n",
    "\n",
    "We can observe that 78.9% of wines that are $200+ have a rating of 100\n",
    "\n",
    "Wines in the Casual price range mostl likely receive points between 86 to 90, which is not bad considering the price\n",
    "\n",
    "Luyxury wines are more likely to receive scores between 96 to 98 which suits the price\n",
    "\n",
    "And lastly, cheaper Adequate wine rarely would score higher than 87"
   ]
  },
  {
   "cell_type": "markdown",
   "id": "543afac4",
   "metadata": {},
   "source": [
    "#### Text Analysis"
   ]
  },
  {
   "cell_type": "code",
   "execution_count": null,
   "id": "ae4649c6",
   "metadata": {},
   "outputs": [],
   "source": [
    "print(wine.columns.values)"
   ]
  },
  {
   "cell_type": "code",
   "execution_count": null,
   "id": "24d4d45f",
   "metadata": {},
   "outputs": [],
   "source": [
    "wine.head()"
   ]
  },
  {
   "cell_type": "code",
   "execution_count": null,
   "id": "373f8e8b",
   "metadata": {},
   "outputs": [],
   "source": [
    "wine.describe()"
   ]
  },
  {
   "cell_type": "code",
   "execution_count": null,
   "id": "2858aee6",
   "metadata": {
    "scrolled": true
   },
   "outputs": [],
   "source": [
    "wine['taster_name'].value_counts()"
   ]
  },
  {
   "cell_type": "code",
   "execution_count": null,
   "id": "f2bdc1d3",
   "metadata": {},
   "outputs": [],
   "source": [
    "# Amount of reviews of each wine taster\n",
    "plt.figure(figsize=(10,15))\n",
    "sns.countplot(y='taster_name', data=wine, order=wine.taster_name.value_counts().index)\n",
    "plt.show()"
   ]
  },
  {
   "cell_type": "markdown",
   "id": "38937744",
   "metadata": {},
   "source": [
    "This diagram shows the amount of reviews each sommelier made, Roger Voss has tested and wrote the most reviews among other sommeliers."
   ]
  },
  {
   "cell_type": "code",
   "execution_count": null,
   "id": "f45b5083",
   "metadata": {},
   "outputs": [],
   "source": [
    "wine['numwords'] = wine['description'].map(lambda x:len(re.findall(r'\\w+', x)))"
   ]
  },
  {
   "cell_type": "code",
   "execution_count": null,
   "id": "5709da73",
   "metadata": {},
   "outputs": [],
   "source": [
    "wordsbychar = wine.groupby('taster_name', as_index=False).numwords.sum()\n",
    "wordsbychar"
   ]
  },
  {
   "cell_type": "code",
   "execution_count": null,
   "id": "d3c60a17",
   "metadata": {},
   "outputs": [],
   "source": [
    "plt.figure(figsize=(10,8))\n",
    "sns.barplot(x='numwords', y='taster_name', data=wordsbychar, order=wordsbychar.sort_values('numwords').taster_name[0:20], orient='h')\n",
    "plt.show()"
   ]
  },
  {
   "cell_type": "code",
   "execution_count": null,
   "id": "c7286fd9",
   "metadata": {},
   "outputs": [],
   "source": [
    "# Lowercase conversion, HTML tag removal, URL removal, digit removal, \n",
    "# tokenization, stopword removal, stemming, and lemmatization.\n",
    "def preprocess(sentence):\n",
    "    sentence=str(sentence)\n",
    "    sentence = sentence.lower()\n",
    "    sentence = sentence.replace('{html}',\"\") \n",
    "    cleanr = re.compile('<.*?>')\n",
    "    cleantext = re.sub(cleanr, '', sentence)\n",
    "    rem_url = re.sub(r'http\\S+', '',cleantext)\n",
    "    rem_num = re.sub('[0-9]+', '', rem_url)\n",
    "    tokenizer = RegexpTokenizer(r'\\w+')\n",
    "    tokens = tokenizer.tokenize(rem_num)  \n",
    "    filtered_words = [w for w in tokens if len(w) > 2 if not w in stopwords.words('english')]\n",
    "    stem_words = [PorterStemmer().stem(w) for w in filtered_words]\n",
    "    lemma_words=[WordNetLemmatizer().lemmatize(w) for w in stem_words]\n",
    "    return \" \".join(filtered_words)"
   ]
  },
  {
   "cell_type": "code",
   "execution_count": null,
   "id": "92b53131",
   "metadata": {},
   "outputs": [],
   "source": [
    "import nltk\n",
    "nltk.download('omw-1.4')"
   ]
  },
  {
   "cell_type": "code",
   "execution_count": null,
   "id": "b5857a3a",
   "metadata": {},
   "outputs": [],
   "source": [
    "# adding this processed function to our text in a new column\n",
    "wine['clean'] = wine['description'].map(lambda x: preprocess(x))"
   ]
  },
  {
   "cell_type": "code",
   "execution_count": null,
   "id": "e7e3defa",
   "metadata": {},
   "outputs": [],
   "source": [
    "# Top 10 words\n",
    "topwords = Counter(\"\".join(wine['clean']).split()).most_common(10)\n",
    "topwords"
   ]
  },
  {
   "cell_type": "code",
   "execution_count": null,
   "id": "e11612d4",
   "metadata": {},
   "outputs": [],
   "source": [
    "# Sommeliers wCloud\n",
    "sommeliers_wordcloud = WordCloud(background_color='white', max_words=100, colormap='copper').generate_from_frequencies(dict(topwords))\n",
    "plt.figure(figsize=(10, 10))\n",
    "plt.imshow(sommeliers_wordcloud, interpolation='bilinear')\n",
    "plt.axis('off')\n",
    "plt.show()"
   ]
  },
  {
   "cell_type": "markdown",
   "id": "b0a4a1b7",
   "metadata": {},
   "source": [
    "This is the most common used 10 words in all the reviews."
   ]
  },
  {
   "cell_type": "code",
   "execution_count": null,
   "id": "eb138cd5",
   "metadata": {},
   "outputs": [],
   "source": [
    "wine['taster_name'].unique()"
   ]
  },
  {
   "cell_type": "code",
   "execution_count": null,
   "id": "1e4b0668",
   "metadata": {},
   "outputs": [],
   "source": [
    "voss = wine[wine['taster_name']=='Roger Voss']"
   ]
  },
  {
   "cell_type": "code",
   "execution_count": null,
   "id": "b07eea06",
   "metadata": {},
   "outputs": [],
   "source": [
    "count_voss = Counter(\" \".join(voss[\"clean\"]).split()).most_common(10)\n",
    "count_voss"
   ]
  },
  {
   "cell_type": "code",
   "execution_count": null,
   "id": "e9f947f6",
   "metadata": {},
   "outputs": [],
   "source": [
    "# word cloud (Roger Voss)\n",
    "voss_wordcloud = WordCloud(background_color='white', max_words=100, colormap='copper').generate_from_frequencies(dict(count_voss))\n",
    "plt.figure(figsize=(10, 10))\n",
    "plt.imshow(voss_wordcloud, interpolation='bilinear')\n",
    "plt.axis('off')\n",
    "plt.show()"
   ]
  },
  {
   "cell_type": "markdown",
   "id": "cd0aaec9",
   "metadata": {},
   "source": [
    "This word cloud shows the words Roger Voss used the most in his reviews on different wines. We are able to see that he has expereince with fruity wine, and specifies on the acidity on wines."
   ]
  },
  {
   "cell_type": "code",
   "execution_count": null,
   "id": "625bc89b",
   "metadata": {},
   "outputs": [],
   "source": [
    "schachner = wine[wine['taster_name']=='Michael Schachner']"
   ]
  },
  {
   "cell_type": "code",
   "execution_count": null,
   "id": "4cf28bc8",
   "metadata": {},
   "outputs": [],
   "source": [
    "count_schachner = Counter(\" \".join(schachner[\"clean\"]).split()).most_common(10)\n",
    "count_schachner"
   ]
  },
  {
   "cell_type": "code",
   "execution_count": null,
   "id": "f2379d6a",
   "metadata": {
    "scrolled": false
   },
   "outputs": [],
   "source": [
    "# word cloud (Michael Schachner)\n",
    "schachner_wordcloud = WordCloud(background_color='white', max_words=100, colormap='copper').generate_from_frequencies(dict(count_schachner))\n",
    "plt.figure(figsize=(10, 10))\n",
    "plt.imshow(schachner_wordcloud, interpolation='bilinear')\n",
    "plt.axis('off')\n",
    "plt.show()"
   ]
  },
  {
   "cell_type": "markdown",
   "id": "740066b0",
   "metadata": {},
   "source": [
    "Michael Schachner focuses the reviews on the flavors of the wine, he talks about the aromas, and how the finishing taste of the wine are."
   ]
  },
  {
   "cell_type": "markdown",
   "id": "d75f9505",
   "metadata": {},
   "source": [
    "### Sentiment Analysis"
   ]
  },
  {
   "cell_type": "code",
   "execution_count": null,
   "id": "58339cd4",
   "metadata": {},
   "outputs": [],
   "source": [
    "# Create a function to get the polarity\n",
    "def get_polarity(text):\n",
    "    return TextBlob(text).sentiment.polarity\n",
    "\n",
    "# Create a new column 'Polarity' by applying the function to the 'description' column\n",
    "wine['Polarity'] = wine['description'].apply(get_polarity)"
   ]
  },
  {
   "cell_type": "code",
   "execution_count": null,
   "id": "e9413fa5",
   "metadata": {},
   "outputs": [],
   "source": [
    "wine.head()"
   ]
  },
  {
   "cell_type": "code",
   "execution_count": null,
   "id": "193a12d6",
   "metadata": {
    "scrolled": false
   },
   "outputs": [],
   "source": [
    "fig = px.histogram(wine, x=\"Polarity\")\n",
    "fig.show()"
   ]
  },
  {
   "cell_type": "code",
   "execution_count": null,
   "id": "e357aaa6",
   "metadata": {
    "scrolled": false
   },
   "outputs": [],
   "source": [
    "fig = px.histogram(wine, x=\"Polarity\", nbins=50, color_discrete_sequence=['#722F37'])\n",
    "fig.show()"
   ]
  },
  {
   "cell_type": "markdown",
   "id": "017b61fd",
   "metadata": {},
   "source": [
    "This is a diagram showing the polarity made by sommeliers, most of the reviews seems to be rather positive(>0), but there are still negative reviews."
   ]
  },
  {
   "cell_type": "code",
   "execution_count": null,
   "id": "c941f444",
   "metadata": {},
   "outputs": [],
   "source": [
    "fig = px.scatter(wine, x=\"points\", y=\"Polarity\", color_discrete_sequence=['#722F37'])\n",
    "fig.show()"
   ]
  },
  {
   "cell_type": "markdown",
   "id": "9306a01b",
   "metadata": {},
   "source": [
    "From this diagram we are able to observe that the lower score the wine receives, the more neutral the polarity. The higher the score of wine, the more possitive reviews it gets."
   ]
  },
  {
   "cell_type": "code",
   "execution_count": null,
   "id": "0da2dc3e",
   "metadata": {},
   "outputs": [],
   "source": [
    "# scatter plot of sentiment polarity vs price\n",
    "fig = px.scatter(wine, x=\"price\", y=\"Polarity\", log_x=True, hover_data=['title'], color_discrete_sequence=['#722F37'])\n",
    "fig.update_layout(title='Sentiment Polarity vs Wine Price', \n",
    "                  xaxis=dict(title='Price (log scale)'), \n",
    "                  yaxis=dict(title='Sentiment Polarity'))\n",
    "fig.show()"
   ]
  },
  {
   "cell_type": "markdown",
   "id": "e427576f",
   "metadata": {},
   "source": [
    "We can observe that there is not quite a correlation between price and polarity, but when you reach the very expensive wines, it is less likely that it has a low sentiment score. "
   ]
  },
  {
   "cell_type": "markdown",
   "id": "c086b344",
   "metadata": {},
   "source": [
    "### Conclusion"
   ]
  },
  {
   "cell_type": "markdown",
   "id": "0ba9e7de",
   "metadata": {},
   "source": [
    "- __Geographical Distribution:__ The analysis reveals that the majority of wines come from the United States and Europe, with the U.S. holding the largest share. This suggests that the market, particularly in the U.S., is highly saturated, indicating a potentially competitive environment for new brands or types of wine. It also points to opportunities in under-represented regions such as South America, Asia, and Africa.\n",
    "\n",
    "- __Vintage:__ Most of the wines included in the dataset were produced between 2010 and 2014, indicating a relatively young age for the majority of wines being rated. Wines from these years are likely still readily available in the market.\n",
    "\n",
    "- __Ratings:__ Ratings are generally positive, with many wines scoring around 87 to 90 points. The analysis shows that ratings are somewhat linked to price, with more expensive wines being more likely to receive higher scores. However, there are many instances where lower-priced wines receive high scores, suggesting that price is not always an indicator of quality or enjoyment.\n",
    "\n",
    "- __Sentiment Analysis:__ The sentiment analysis of the reviews indicates a generally positive sentiment among reviewers, even for wines that receive lower scores. Interestingly, very expensive wines are less likely to have a low sentiment score, indicating a correlation between price and positive sentiment.\n",
    "\n",
    "- __Review Content:__ Reviewers tend to focus on the flavor, aroma, and acidity of the wines. Words related to these attributes feature prominently in the reviews, indicating the importance of these aspects in the wine tasting and rating process."
   ]
  },
  {
   "cell_type": "markdown",
   "id": "0d517169",
   "metadata": {},
   "source": [
    "In conclusion, the analysis suggests that while the wine market is heavily dominated by the U.S. and Europe, there are opportunities for wines from other regions. Furthermore, while price can be an indicator of quality, it's not a guarantee, and a well-made, lower-priced wine can still receive high scores and positive reviews. Reviewers focus on the flavor, aroma, and acidity of wines, suggesting these are important factors for winemakers to consider."
   ]
  }
 ],
 "metadata": {
  "kernelspec": {
   "display_name": "Python 3 (ipykernel)",
   "language": "python",
   "name": "python3"
  },
  "language_info": {
   "codemirror_mode": {
    "name": "ipython",
    "version": 3
   },
   "file_extension": ".py",
   "mimetype": "text/x-python",
   "name": "python",
   "nbconvert_exporter": "python",
   "pygments_lexer": "ipython3",
   "version": "3.11.3"
  }
 },
 "nbformat": 4,
 "nbformat_minor": 5
}
